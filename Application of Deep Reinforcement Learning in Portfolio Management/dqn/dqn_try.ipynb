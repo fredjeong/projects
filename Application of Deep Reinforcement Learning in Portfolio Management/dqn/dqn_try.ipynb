{
 "cells": [
  {
   "cell_type": "markdown",
   "metadata": {},
   "source": [
    "# Utility Functions"
   ]
  },
  {
   "cell_type": "code",
   "execution_count": 1,
   "metadata": {},
   "outputs": [],
   "source": [
    "import pandas as pd\n",
    "from collections import deque, namedtuple\n",
    "import matplotlib.pyplot as plt\n",
    "from mplfinance.original_flavor import candlestick_ohlc\n",
    "import matplotlib.dates as mpl_dates\n",
    "import random\n",
    "\n",
    "class TradingGraph:\n",
    "    # A crypto trading visualization using matplotlib made to render custom prices which come in following way:\n",
    "    # Date, Open, High, Low, Close, Volume, net_worth, trades\n",
    "    # call render every step\n",
    "    def __init__(self, render_range):\n",
    "        self.volume = deque(maxlen=render_range)\n",
    "        self.net_worth = deque(maxlen=render_range)\n",
    "        self.render_data = deque(maxlen=render_range)\n",
    "        self.render_range = render_range\n",
    "\n",
    "        # We are using the style ‘ggplot’\n",
    "        plt.style.use('ggplot')\n",
    "        # close all plots if there are open\n",
    "        plt.close('all')\n",
    "        # figsize attribute allows us to specify the width and height of a figure in unit inches\n",
    "        self.fig = plt.figure(figsize=(16,8)) \n",
    "\n",
    "        # Create top subplot for price axis\n",
    "        self.ax1 = plt.subplot2grid((6,1), (0,0), rowspan=5, colspan=1)\n",
    "        \n",
    "        # Create bottom subplot for volume which shares its x-axis\n",
    "        self.ax2 = plt.subplot2grid((6,1), (5,0), rowspan=1, colspan=1, sharex=self.ax1)\n",
    "        \n",
    "        # Create a new axis for net worth which shares its x-axis with price\n",
    "        self.ax3 = self.ax1.twinx()\n",
    "\n",
    "        # Formatting Date\n",
    "        self.date_format = mpl_dates.DateFormatter('%d-%m-%Y')\n",
    "        \n",
    "        # Add paddings to make graph easier to view\n",
    "        #plt.subplots_adjust(left=0.07, bottom=-0.1, right=0.93, top=0.97, wspace=0, hspace=0)\n",
    "\n",
    "    # Render the environment to the screen\n",
    "    def render(self, date, open, high, low, close, volume, net_worth, trades):\n",
    "        # append volume and net_worth to deque list\n",
    "        self.volume.append(volume)\n",
    "        self.net_worth.append(net_worth)\n",
    "\n",
    "        # before appending to deque list, need to convert Date to special format\n",
    "        date = mpl_dates.date2num([pd.to_datetime(date)])[0]\n",
    "        self.render_data.append([date, open, high, low, close])\n",
    "        \n",
    "        # Clear the frame rendered last step\n",
    "        self.ax1.clear()\n",
    "        candlestick_ohlc(self.ax1, self.render_data, width=0.8/24, colorup='red', colordown='blue', alpha=0.8)\n",
    "\n",
    "        # Put all dates to one list and fill ax2 sublot with volume\n",
    "        date_render_range = [i[0] for i in self.render_data]\n",
    "        self.ax2.clear()\n",
    "        self.ax2.fill_between(date_render_range, self.volume, 0)\n",
    "\n",
    "        # draw our net_worth graph on ax3 (shared with ax1) subplot\n",
    "        self.ax3.clear()\n",
    "        self.ax3.plot(date_render_range, self.net_worth, color=\"blue\")\n",
    "        \n",
    "        # beautify the x-labels (Our Date format)\n",
    "        self.ax1.xaxis.set_major_formatter(self.date_format)\n",
    "        self.fig.autofmt_xdate()\n",
    "\n",
    "        # sort sell and buy orders, put arrows in appropiate order positions\n",
    "        for trade in trades:\n",
    "            trade_date = mpl_dates.date2num([pd.to_datetime(trade['Date'])])[0]\n",
    "            if trade_date in date_render_range:\n",
    "                if trade['Type'] == 'buy':\n",
    "                    high_low = trade['Low']-10\n",
    "                    self.ax1.scatter(trade_date, high_low, c='red', label='red', s = 120, edgecolors='none', marker=\"^\")\n",
    "                else:\n",
    "                    high_low = trade['High']+10\n",
    "                    self.ax1.scatter(trade_date, high_low, c='blue', label='blue', s = 120, edgecolors='none', marker=\"v\")\n",
    "\n",
    "        # we need to set layers every step, because we are clearing subplots every step\n",
    "        self.ax2.set_xlabel('Date')\n",
    "        self.ax1.set_ylabel('Price')\n",
    "        self.ax3.yaxis.set_label_position('right')\n",
    "        self.ax3.set_ylabel('Balance') # 여기 수정\n",
    "\n",
    "        # I use tight_layout to replace plt.subplots_adjust\n",
    "        self.fig.tight_layout()\n",
    "\n",
    "        \"\"\"Display image with matplotlib - interrupting other tasks\"\"\"\n",
    "        # Show the graph without blocking the rest of the program\n",
    "        plt.show(block=False)\n",
    "        # Necessary to view frames before they are unrendered\n",
    "        plt.pause(0.001)\n",
    "\n",
    "class ReplayMemory(object):\n",
    "    \n",
    "    def __init__(self, capacity):\n",
    "        self.memory = deque([], maxlen=capacity)\n",
    "        self.Transition = namedtuple('Transition',\n",
    "                                ('state', 'action', 'next_state', 'reward'))\n",
    "\n",
    "    def push(self, *args):\n",
    "        \"\"\"Save a transition\"\"\"\n",
    "        self.memory.append(self.Transition(*args))\n",
    "\n",
    "    def sample(self, batch_size):\n",
    "        return random.sample(self.memory, batch_size)\n",
    "\n",
    "    def __len__(self):\n",
    "        return len(self.memory)"
   ]
  },
  {
   "cell_type": "markdown",
   "metadata": {},
   "source": [
    "# Model"
   ]
  },
  {
   "cell_type": "code",
   "execution_count": 219,
   "metadata": {},
   "outputs": [],
   "source": [
    "import torch\n",
    "import torch.nn as nn\n",
    "import torch.nn.functional as F\n",
    "\n",
    "device = torch.device(\n",
    "    \"cuda\" if torch.cuda.is_available() else\n",
    "    \"mps\" if torch.backends.mps.is_available() else\n",
    "    \"cpu\"\n",
    ")\n",
    "\n",
    "class DQN(nn.Module):\n",
    "    def __init__(self, action_space, state_size):\n",
    "        super(DQN, self).__init__()\n",
    "        self.action_space = action_space\n",
    "        self.state_size = state_size\n",
    "        self.state_size = self.state_size[0] * self.state_size[1]\n",
    "\n",
    "        self.flatten = nn.Flatten()\n",
    "        self.layer1 = nn.Linear(500, 512)\n",
    "        self.layer2 = nn.Linear(512, 256)\n",
    "        self.layer3 = nn.Linear(256, 64)\n",
    "        self.layer4 = nn.Linear(64, self.action_space)\n",
    "\n",
    "    # Called with either one element to determine next action, or a batch\n",
    "    # during optimization. Returns tensor([[left0exp,right0exp]...]).\n",
    "    def forward(self, x):\n",
    "        x = self.flatten(x)\n",
    "        x = F.relu(self.layer1(x))\n",
    "        x = F.relu(self.layer2(x))\n",
    "        x = F.relu(self.layer3(x))\n",
    "        return self.layer4(x)\n",
    "        #return self.layer4(x)\n",
    "\n",
    "# Weight initialisation\n",
    "def init_weights(m):\n",
    "    if isinstance(m, nn.Linear):\n",
    "        torch.nn.init.xavier_uniform_(m.weight)\n",
    "        m.bias.data.fill_(0.01)"
   ]
  },
  {
   "cell_type": "markdown",
   "metadata": {},
   "source": [
    "# Environment"
   ]
  },
  {
   "cell_type": "code",
   "execution_count": 220,
   "metadata": {},
   "outputs": [],
   "source": [
    "import numpy as np\n",
    "import random\n",
    "from collections import deque, namedtuple\n",
    "import torch\n",
    "import torch.nn as nn\n",
    "import torch.optim as optim\n",
    "#from tensorboardX import SummaryWriter\n",
    "import gymnasium as gym\n",
    "\n",
    "device = torch.device(\n",
    "    \"cuda\" if torch.cuda.is_available() else\n",
    "    \"mps\" if torch.backends.mps.is_available() else\n",
    "    \"cpu\"\n",
    ")"
   ]
  },
  {
   "cell_type": "code",
   "execution_count": 373,
   "metadata": {},
   "outputs": [],
   "source": [
    "class TradingEnv(gym.Env):\n",
    "    # A custom Bitcoin trading environment\n",
    "    def __init__(self, df, initial_balance=1000, lookback_window_size=50, render_range = 100):\n",
    "        # Define action space and state size and other custom parameters\n",
    "        self.df = df.dropna().reset_index()\n",
    "        self.df_total_steps = len(self.df)-1\n",
    "        self.initial_balance = initial_balance\n",
    "        self.lookback_window_size = lookback_window_size\n",
    "        self.render_range = render_range # render range in visualization\n",
    "\n",
    "        self.batch_size = 64\n",
    "        self.gamma = 0.99\n",
    "        self.eps_start = 0.9\n",
    "        self.eps_end = 0.05\n",
    "        self.eps_decay = 1000\n",
    "        self.tau = 0.1\n",
    "        self.lr = 1e-4\n",
    "        self.C = 24*7 # Update target every C steps (Update every week 원래 한달이었고 이거 성능 잘나왔음)\n",
    "        self.losses = []\n",
    "        self.ratio = 0.1\n",
    "\n",
    "        self.memory = ReplayMemory(1000)\n",
    "        self.loss = 0\n",
    "\n",
    "        # Action space from 0 to 3, 0 is hold, 1 is buy, 2 is sell\n",
    "        self.action_space = np.array([0, 1, 2])\n",
    "        n_actions = len(self.action_space)\n",
    "\n",
    "        # Orders history contains the balance, net_worth, crypto_bought, crypto_sold, crypto_held values for the last lookback_window_size steps\n",
    "        self.orders_history = deque(maxlen=self.lookback_window_size)\n",
    "        \n",
    "        # Market history contains the OHCL values for the last lookback_window_size prices\n",
    "        self.market_history = deque(maxlen=self.lookback_window_size)\n",
    "\n",
    "        # State size contains Market+Orders history for the last lookback_window_size steps\n",
    "        self.state_size = (self.lookback_window_size, 10)\n",
    "\n",
    "        self.Target = DQN(n_actions, self.state_size).to(device)\n",
    "        self.Behaviour = DQN(n_actions, self.state_size).to(device)\n",
    "        self.Target.apply(init_weights)\n",
    "        self.Behaviour.apply(init_weights)\n",
    "\n",
    "        self.optimizer = optim.Adam(self.Behaviour.parameters(), lr=self.lr)\n",
    "\n",
    "\n",
    "    # Reset the state of the environment to an initial state\n",
    "    def reset(self, env_steps_size = 0):\n",
    "        self.visualization = TradingGraph(render_range=self.render_range) # init visualization\n",
    "        self.trades = deque(maxlen=self.render_range) # limited orders memory for visualization\n",
    "        \n",
    "        self.balance = self.initial_balance\n",
    "        self.net_worth = self.initial_balance\n",
    "        self.prev_net_worth = self.initial_balance\n",
    "        self.crypto_held = 0\n",
    "        self.crypto_sold = 0\n",
    "        self.crypto_bought = 0\n",
    "        if env_steps_size > 0: # used for training dataset\n",
    "            self.start_step = random.randint(self.lookback_window_size, self.df_total_steps - env_steps_size)\n",
    "            self.end_step = self.start_step + env_steps_size\n",
    "        else: # used for testing dataset\n",
    "            self.start_step = self.lookback_window_size\n",
    "            self.end_step = self.df_total_steps\n",
    "            \n",
    "        self.current_step = self.start_step\n",
    "\n",
    "        for i in reversed(range(self.lookback_window_size)):\n",
    "            current_step = self.current_step - i\n",
    "            self.orders_history.append([self.balance, self.net_worth, self.crypto_bought, self.crypto_sold, self.crypto_held])\n",
    "            self.market_history.append([self.df.loc[current_step, 'open'],\n",
    "                                        self.df.loc[current_step, 'high'],\n",
    "                                        self.df.loc[current_step, 'low'],\n",
    "                                        self.df.loc[current_step, 'close'],\n",
    "                                        self.df.loc[current_step, 'volume']\n",
    "                                        ])\n",
    "\n",
    "        state = np.concatenate((self.market_history, self.orders_history), axis=1)\n",
    "        return state\n",
    "\n",
    "    # Get the data points for the given current_step\n",
    "    def _next_observation(self):\n",
    "        self.market_history.append([self.df.loc[self.current_step, 'open'],\n",
    "                                    self.df.loc[self.current_step, 'high'],\n",
    "                                    self.df.loc[self.current_step, 'low'],\n",
    "                                    self.df.loc[self.current_step, 'close'],\n",
    "                                    self.df.loc[self.current_step, 'volume']\n",
    "                                    ])\n",
    "        obs = np.concatenate((self.market_history, self.orders_history), axis=1)\n",
    "        return obs\n",
    "\n",
    "    # Execute one time step within the environment\n",
    "    def step(self, action):\n",
    "        self.crypto_bought = 0\n",
    "        self.crypto_sold = 0\n",
    "        self.current_step += 1\n",
    "\n",
    "        # Set the current price to a random price between open and close\n",
    "        current_price = random.uniform(\n",
    "            self.df.loc[self.current_step, 'open'],\n",
    "            self.df.loc[self.current_step, 'close'])\n",
    "        date = self.df.loc[self.current_step, 'date_open'] # for visualization\n",
    "        high = self.df.loc[self.current_step, 'high'] # for visualization\n",
    "        low = self.df.loc[self.current_step, 'low'] # for visualization\n",
    "        \n",
    "        if action == 0: # Hold\n",
    "            pass\n",
    "\n",
    "        elif action == 1 and self.balance > self.initial_balance/100:\n",
    "            # Buy with 100% of current balance\n",
    "            self.crypto_bought = self.balance * self.ratio / current_price\n",
    "            self.balance -= self.crypto_bought * current_price\n",
    "            self.crypto_held += self.crypto_bought\n",
    "            self.trades.append({'Date' : date, 'High' : high, 'Low' : low, 'Total': self.crypto_bought, 'Type': \"buy\"})\n",
    "\n",
    "        elif action == 2 and self.crypto_held>0:\n",
    "            # Sell 100% of current crypto held\n",
    "            self.crypto_sold = self.crypto_held * self.ratio\n",
    "            self.balance += self.crypto_sold * current_price\n",
    "            self.crypto_held -= self.crypto_sold\n",
    "            self.trades.append({'Date' : date, 'High' : high, 'Low' : low, 'Total': self.crypto_sold, 'Type': \"sell\"})\n",
    "\n",
    "        self.prev_net_worth = self.net_worth\n",
    "        self.net_worth = self.balance + self.crypto_held * current_price\n",
    "\n",
    "        self.orders_history.append([self.balance, self.net_worth, self.crypto_bought, self.crypto_sold, self.crypto_held])\n",
    "        #Write_to_file(Date, self.orders_history[-1])\n",
    "\n",
    "        # Calculate reward\n",
    "        reward = (self.net_worth - self.prev_net_worth)\n",
    "\n",
    "        if self.net_worth <= self.initial_balance / 2:\n",
    "            #reward = -10000\n",
    "            done = True\n",
    "        else:\n",
    "            done = False\n",
    "\n",
    "        obs = self._next_observation()\n",
    "        \n",
    "        return obs, reward, done\n",
    "\n",
    "    # render environment\n",
    "    def render(self, visualize=False):\n",
    "        #print(f'Step: {self.current_step}, Net Worth: {self.net_worth}')\n",
    "        if visualize:\n",
    "            date = self.df.loc[self.current_step, 'date_open']\n",
    "            open = self.df.loc[self.current_step, 'open']\n",
    "            close = self.df.loc[self.current_step, 'close']\n",
    "            high = self.df.loc[self.current_step, 'high']\n",
    "            low = self.df.loc[self.current_step, 'low']\n",
    "            volume = self.df.loc[self.current_step, 'volume']\n",
    "\n",
    "            # Render the environment to the screen\n",
    "            self.visualization.render(date, open, high, low, close, volume, self.net_worth, self.trades)\n",
    "    \n",
    "    def act(self, state, testmode): # select_action에 대응\n",
    "        state = torch.tensor(state, dtype=torch.float32, device=device).unsqueeze(0)\n",
    "        sample = random.random()\n",
    "        # 초반에는 엡실론 값을 높게 하여 최대한 다양한 경험을 해보도록 하고, 점점 그 값을 낮춰가며 신경망이 결정하는 비율을 높인다\n",
    "        eps_threshold = self.eps_end + (self.eps_start - self.eps_end) * np.exp(-1 * self.current_step / self.eps_decay) \n",
    "        \n",
    "        if testmode == False:\n",
    "            if sample > eps_threshold:\n",
    "                with torch.no_grad():\n",
    "                    return self.Behaviour(state).max(1).indices.view(1,1)\n",
    "            else:\n",
    "                return torch.tensor([[np.random.choice(self.action_space)]], device=device, dtype=torch.long)\n",
    "        else:\n",
    "            return self.Target(state).max(1).indices.view(1,1)\n",
    "\n",
    "    def save(self, name=\"dqn\"):\n",
    "        torch.save(self.Target.state_dict(), f'./dqn/{name}_Target.h5')\n",
    "        torch.save(self.Behaviour.state_dict(), f'./dqn/{name}_Behaviour.h5')\n",
    "\n",
    "    def load(self, name=\"dqn\"):\n",
    "        self.Target.load_state_dict(torch.load(f'./dqn/{name}_Target.h5', weights_only=True))\n",
    "        #self.Behaviour.load_state_dict(torch.load(f'./dqn/{name}_Behaviour.h5', weights_only=True))\n",
    "        self.Behaviour.load_state_dict(torch.load(f'./dqn/{name}_Target.h5', weights_only=True))\n",
    "        \n",
    "    def optimize_model(self):\n",
    "        # Experience replay 메모리의 길이가 batch size (10)의 5배가 되기 전까지는 샘플링을 하지 않는다.\n",
    "        if len(self.memory) < self.batch_size * 5:\n",
    "            return\n",
    "        Transition = namedtuple('Transition',\n",
    "                        ('state', 'action', 'next_state', 'reward'))\n",
    "        transitions = self.memory.sample(self.batch_size)\n",
    "        # Transpose the batch (see https://stackoverflow.com/a/19343/3343043 for\n",
    "        # detailed explanation). This converts batch-array of Transitions\n",
    "        # to Transition of batch-arrays.\n",
    "        batch = Transition(*zip(*transitions))\n",
    "\n",
    "        # Compute a mask of non-final states and concatenate the batch elements\n",
    "        # (a final state would've been the one after which simulation ended)\n",
    "        non_final_mask = torch.tensor(tuple(map(lambda s: s is not None,\n",
    "                                            batch.next_state)), device=device, dtype=torch.bool)\n",
    "        non_final_next_states = torch.cat([s for s in batch.next_state\n",
    "                                                    if s is not None])\n",
    "        state_batch = torch.cat(batch.state)\n",
    "        action_batch = torch.cat(batch.action)\n",
    "        reward_batch = torch.cat(batch.reward)\n",
    "\n",
    "        # Compute Q(s_t, a) - the model computes Q(s_t), then we select the\n",
    "        # columns of actions taken. These are the actions which would've been taken\n",
    "        # for each batch state according to policy_net\n",
    "        #with torch.no_grad():\n",
    "        #    state_action_values = self.Target(state_batch).gather(1, action_batch)\n",
    "        state_action_values = self.Target(state_batch).gather(1, action_batch)\n",
    "\n",
    "        # Compute V(s_{t+1}) for all next states.\n",
    "        # Expected values of actions for non_final_next_states are computed based\n",
    "        # on the \"older\" target_net; selecting their best reward with max(1).values\n",
    "        # This is merged based on the mask, such that we'll have either the expected\n",
    "        # state value or 0 in case the state was final.\n",
    "        next_state_values = torch.zeros(self.batch_size, device=device)\n",
    "        #with torch.no_grad():\n",
    "        #    next_state_values[non_final_mask] = self.Behaviour(non_final_next_states).max(1).values\n",
    "        next_state_values[non_final_mask] = self.Behaviour(non_final_next_states).max(1).values\n",
    "        # Compute the expected Q values\n",
    "        expected_state_action_values = (next_state_values * self.gamma) + reward_batch\n",
    "        expected_state_action_values = expected_state_action_values.unsqueeze(1)\n",
    "\n",
    "        # Compute Huber loss\n",
    "        self.Behaviour.train()\n",
    "        criterion = nn.HuberLoss()\n",
    "        #criterion = nn.HuberLoss()\n",
    "        self.loss = criterion(state_action_values, expected_state_action_values)#.unsqueeze(1)\n",
    "        self.losses.append(self.loss)\n",
    "        # Optimize the model\n",
    "        self.optimizer.zero_grad()\n",
    "        torch.nn.utils.clip_grad_value_(self.Behaviour.parameters(), 100) # Clipping before backward\n",
    "        self.loss.backward()\n",
    "        # In-place gradient clipping\n",
    "        \n",
    "        self.optimizer.step()\n",
    "        \n",
    "        # Update the target network every C step\n",
    "        if self.current_step % self.C == 0:\n",
    "            self.soft_update_target(self.Target, self.Behaviour)\n",
    "    \n",
    "    def soft_update_target(self, target, behaviour):\n",
    "        for target_parameter, behaviour_parameter in zip(target.parameters(), behaviour.parameters()):\n",
    "            target_parameter.data.copy_((1 - self.tau) * target_parameter.data + self.tau * behaviour_parameter)"
   ]
  },
  {
   "cell_type": "code",
   "execution_count": 374,
   "metadata": {},
   "outputs": [],
   "source": [
    "def train_agent(env, visualize=False, train_episodes=1, training_batch_size=500):\n",
    "    \n",
    "    for episode in range(train_episodes):\n",
    "        state = env.reset(env_steps_size = training_batch_size)\n",
    "        state = torch.tensor(state, dtype=torch.float32, device=device).unsqueeze(0)\n",
    "        \n",
    "        for t in range(training_batch_size):\n",
    "            env.render(visualize)\n",
    "            action = env.act(state, testmode=False)\n",
    "            next_state, reward, done = env.step(action)\n",
    "            # 추가한 부분\n",
    "            next_state = torch.tensor(next_state, dtype=torch.float32, device=device).unsqueeze(0)\n",
    "            reward = torch.tensor(reward, dtype=torch.float32, device=device).unsqueeze(0)\n",
    "            if done:\n",
    "                break\n",
    "            #action_onehot = np.zeros(3)\n",
    "            #action_onehot[action] = 1\n",
    "            env.memory.push(state, action, next_state, reward) # Store the transition in memory\n",
    "            state = next_state\n",
    "            env.optimize_model() # perform one step of the optimization on the policy network\n",
    "\n",
    "        #torch.cat(env.losses, dim=0)\n",
    "        print(f\"Episode: {episode} Net worth: {env.net_worth}\")\n",
    "        print(f\"Episode {episode} loss: {env.loss}\")\n",
    "        #print(f\"Episode {episode} average loss: {torch.mean(env.losses)}\")\n",
    "        #if episode == train_episodes - 1:\n",
    "            #env.save()"
   ]
  },
  {
   "cell_type": "code",
   "execution_count": 42,
   "metadata": {},
   "outputs": [],
   "source": [
    "def test_agent(env, visualize=False, test_episodes=1):\n",
    "    env.load() # load the model\n",
    "    for episode in range(test_episodes):\n",
    "        state = env.reset()\n",
    "        while True:\n",
    "            env.render(visualize)\n",
    "            action = env.act(state, testmode=True)\n",
    "            state, reward, done = env.step(action)\n",
    "            print(f\"Episode {episode} net_worth:, {env.net_worth}\")\n",
    "            #print(f\"Episode {episode} average loss: {np.mean(env.losses)}\")\n",
    "            if env.current_step == env.end_step:\n",
    "                break"
   ]
  },
  {
   "cell_type": "code",
   "execution_count": 280,
   "metadata": {},
   "outputs": [
    {
     "data": {
      "text/plain": [
       "500"
      ]
     },
     "execution_count": 280,
     "metadata": {},
     "output_type": "execute_result"
    }
   ],
   "source": [
    "len(memory2)"
   ]
  },
  {
   "cell_type": "code",
   "execution_count": 376,
   "metadata": {},
   "outputs": [
    {
     "name": "stderr",
     "output_type": "stream",
     "text": [
      "/var/folders/4w/q37s19t15xg3s29s2zm_1dcw0000gn/T/ipykernel_40545/1373357421.py:155: UserWarning: To copy construct from a tensor, it is recommended to use sourceTensor.clone().detach() or sourceTensor.clone().detach().requires_grad_(True), rather than torch.tensor(sourceTensor).\n",
      "  state = torch.tensor(state, dtype=torch.float32, device=device).unsqueeze(0)\n"
     ]
    },
    {
     "name": "stdout",
     "output_type": "stream",
     "text": [
      "Episode: 0 Net worth: 971.3539180595093\n",
      "Episode 0 loss: 293.8597412109375\n"
     ]
    },
    {
     "name": "stderr",
     "output_type": "stream",
     "text": [
      "/var/folders/4w/q37s19t15xg3s29s2zm_1dcw0000gn/T/ipykernel_40545/1373357421.py:155: UserWarning: To copy construct from a tensor, it is recommended to use sourceTensor.clone().detach() or sourceTensor.clone().detach().requires_grad_(True), rather than torch.tensor(sourceTensor).\n",
      "  state = torch.tensor(state, dtype=torch.float32, device=device).unsqueeze(0)\n"
     ]
    },
    {
     "name": "stdout",
     "output_type": "stream",
     "text": [
      "Episode: 1 Net worth: 1003.2582501173113\n",
      "Episode 1 loss: 593.2232055664062\n"
     ]
    },
    {
     "name": "stderr",
     "output_type": "stream",
     "text": [
      "/var/folders/4w/q37s19t15xg3s29s2zm_1dcw0000gn/T/ipykernel_40545/1373357421.py:155: UserWarning: To copy construct from a tensor, it is recommended to use sourceTensor.clone().detach() or sourceTensor.clone().detach().requires_grad_(True), rather than torch.tensor(sourceTensor).\n",
      "  state = torch.tensor(state, dtype=torch.float32, device=device).unsqueeze(0)\n"
     ]
    },
    {
     "name": "stdout",
     "output_type": "stream",
     "text": [
      "Episode: 2 Net worth: 988.2389465876395\n",
      "Episode 2 loss: 184.29898071289062\n"
     ]
    },
    {
     "name": "stderr",
     "output_type": "stream",
     "text": [
      "/var/folders/4w/q37s19t15xg3s29s2zm_1dcw0000gn/T/ipykernel_40545/1373357421.py:155: UserWarning: To copy construct from a tensor, it is recommended to use sourceTensor.clone().detach() or sourceTensor.clone().detach().requires_grad_(True), rather than torch.tensor(sourceTensor).\n",
      "  state = torch.tensor(state, dtype=torch.float32, device=device).unsqueeze(0)\n"
     ]
    },
    {
     "name": "stdout",
     "output_type": "stream",
     "text": [
      "Episode: 3 Net worth: 1007.3235172241467\n",
      "Episode 3 loss: 120.27008819580078\n"
     ]
    },
    {
     "name": "stderr",
     "output_type": "stream",
     "text": [
      "/var/folders/4w/q37s19t15xg3s29s2zm_1dcw0000gn/T/ipykernel_40545/1373357421.py:155: UserWarning: To copy construct from a tensor, it is recommended to use sourceTensor.clone().detach() or sourceTensor.clone().detach().requires_grad_(True), rather than torch.tensor(sourceTensor).\n",
      "  state = torch.tensor(state, dtype=torch.float32, device=device).unsqueeze(0)\n"
     ]
    },
    {
     "name": "stdout",
     "output_type": "stream",
     "text": [
      "Episode: 4 Net worth: 1036.9967360540088\n",
      "Episode 4 loss: 146.49319458007812\n"
     ]
    },
    {
     "name": "stderr",
     "output_type": "stream",
     "text": [
      "/var/folders/4w/q37s19t15xg3s29s2zm_1dcw0000gn/T/ipykernel_40545/1373357421.py:155: UserWarning: To copy construct from a tensor, it is recommended to use sourceTensor.clone().detach() or sourceTensor.clone().detach().requires_grad_(True), rather than torch.tensor(sourceTensor).\n",
      "  state = torch.tensor(state, dtype=torch.float32, device=device).unsqueeze(0)\n"
     ]
    },
    {
     "name": "stdout",
     "output_type": "stream",
     "text": [
      "Episode: 5 Net worth: 994.9649904748925\n",
      "Episode 5 loss: 54.73773193359375\n"
     ]
    },
    {
     "name": "stderr",
     "output_type": "stream",
     "text": [
      "/var/folders/4w/q37s19t15xg3s29s2zm_1dcw0000gn/T/ipykernel_40545/1373357421.py:155: UserWarning: To copy construct from a tensor, it is recommended to use sourceTensor.clone().detach() or sourceTensor.clone().detach().requires_grad_(True), rather than torch.tensor(sourceTensor).\n",
      "  state = torch.tensor(state, dtype=torch.float32, device=device).unsqueeze(0)\n"
     ]
    },
    {
     "name": "stdout",
     "output_type": "stream",
     "text": [
      "Episode: 6 Net worth: 998.9094760339019\n",
      "Episode 6 loss: 52.07475280761719\n"
     ]
    },
    {
     "name": "stderr",
     "output_type": "stream",
     "text": [
      "/var/folders/4w/q37s19t15xg3s29s2zm_1dcw0000gn/T/ipykernel_40545/1373357421.py:155: UserWarning: To copy construct from a tensor, it is recommended to use sourceTensor.clone().detach() or sourceTensor.clone().detach().requires_grad_(True), rather than torch.tensor(sourceTensor).\n",
      "  state = torch.tensor(state, dtype=torch.float32, device=device).unsqueeze(0)\n"
     ]
    },
    {
     "name": "stdout",
     "output_type": "stream",
     "text": [
      "Episode: 7 Net worth: 1014.9800549052632\n",
      "Episode 7 loss: 165.7285919189453\n"
     ]
    },
    {
     "name": "stderr",
     "output_type": "stream",
     "text": [
      "/var/folders/4w/q37s19t15xg3s29s2zm_1dcw0000gn/T/ipykernel_40545/1373357421.py:155: UserWarning: To copy construct from a tensor, it is recommended to use sourceTensor.clone().detach() or sourceTensor.clone().detach().requires_grad_(True), rather than torch.tensor(sourceTensor).\n",
      "  state = torch.tensor(state, dtype=torch.float32, device=device).unsqueeze(0)\n"
     ]
    },
    {
     "name": "stdout",
     "output_type": "stream",
     "text": [
      "Episode: 8 Net worth: 996.4999050006112\n",
      "Episode 8 loss: 257.4927978515625\n"
     ]
    },
    {
     "name": "stderr",
     "output_type": "stream",
     "text": [
      "/var/folders/4w/q37s19t15xg3s29s2zm_1dcw0000gn/T/ipykernel_40545/1373357421.py:155: UserWarning: To copy construct from a tensor, it is recommended to use sourceTensor.clone().detach() or sourceTensor.clone().detach().requires_grad_(True), rather than torch.tensor(sourceTensor).\n",
      "  state = torch.tensor(state, dtype=torch.float32, device=device).unsqueeze(0)\n"
     ]
    },
    {
     "name": "stdout",
     "output_type": "stream",
     "text": [
      "Episode: 9 Net worth: 1005.1404295313729\n",
      "Episode 9 loss: 53.12376403808594\n"
     ]
    },
    {
     "name": "stderr",
     "output_type": "stream",
     "text": [
      "/var/folders/4w/q37s19t15xg3s29s2zm_1dcw0000gn/T/ipykernel_40545/1373357421.py:155: UserWarning: To copy construct from a tensor, it is recommended to use sourceTensor.clone().detach() or sourceTensor.clone().detach().requires_grad_(True), rather than torch.tensor(sourceTensor).\n",
      "  state = torch.tensor(state, dtype=torch.float32, device=device).unsqueeze(0)\n"
     ]
    },
    {
     "name": "stdout",
     "output_type": "stream",
     "text": [
      "Episode: 10 Net worth: 995.4037969980063\n",
      "Episode 10 loss: 67.57109832763672\n"
     ]
    },
    {
     "name": "stderr",
     "output_type": "stream",
     "text": [
      "/var/folders/4w/q37s19t15xg3s29s2zm_1dcw0000gn/T/ipykernel_40545/1373357421.py:155: UserWarning: To copy construct from a tensor, it is recommended to use sourceTensor.clone().detach() or sourceTensor.clone().detach().requires_grad_(True), rather than torch.tensor(sourceTensor).\n",
      "  state = torch.tensor(state, dtype=torch.float32, device=device).unsqueeze(0)\n"
     ]
    },
    {
     "name": "stdout",
     "output_type": "stream",
     "text": [
      "Episode: 11 Net worth: 987.439723273885\n",
      "Episode 11 loss: 546.6577758789062\n"
     ]
    },
    {
     "name": "stderr",
     "output_type": "stream",
     "text": [
      "/var/folders/4w/q37s19t15xg3s29s2zm_1dcw0000gn/T/ipykernel_40545/1373357421.py:155: UserWarning: To copy construct from a tensor, it is recommended to use sourceTensor.clone().detach() or sourceTensor.clone().detach().requires_grad_(True), rather than torch.tensor(sourceTensor).\n",
      "  state = torch.tensor(state, dtype=torch.float32, device=device).unsqueeze(0)\n"
     ]
    },
    {
     "name": "stdout",
     "output_type": "stream",
     "text": [
      "Episode: 12 Net worth: 1024.375229368157\n",
      "Episode 12 loss: 782.0150146484375\n"
     ]
    },
    {
     "name": "stderr",
     "output_type": "stream",
     "text": [
      "/var/folders/4w/q37s19t15xg3s29s2zm_1dcw0000gn/T/ipykernel_40545/1373357421.py:155: UserWarning: To copy construct from a tensor, it is recommended to use sourceTensor.clone().detach() or sourceTensor.clone().detach().requires_grad_(True), rather than torch.tensor(sourceTensor).\n",
      "  state = torch.tensor(state, dtype=torch.float32, device=device).unsqueeze(0)\n"
     ]
    },
    {
     "name": "stdout",
     "output_type": "stream",
     "text": [
      "Episode: 13 Net worth: 990.0584979886286\n",
      "Episode 13 loss: 90.85316467285156\n"
     ]
    },
    {
     "name": "stderr",
     "output_type": "stream",
     "text": [
      "/var/folders/4w/q37s19t15xg3s29s2zm_1dcw0000gn/T/ipykernel_40545/1373357421.py:155: UserWarning: To copy construct from a tensor, it is recommended to use sourceTensor.clone().detach() or sourceTensor.clone().detach().requires_grad_(True), rather than torch.tensor(sourceTensor).\n",
      "  state = torch.tensor(state, dtype=torch.float32, device=device).unsqueeze(0)\n"
     ]
    },
    {
     "name": "stdout",
     "output_type": "stream",
     "text": [
      "Episode: 14 Net worth: 1096.8118305448247\n",
      "Episode 14 loss: 170.74649047851562\n"
     ]
    },
    {
     "name": "stderr",
     "output_type": "stream",
     "text": [
      "/var/folders/4w/q37s19t15xg3s29s2zm_1dcw0000gn/T/ipykernel_40545/1373357421.py:155: UserWarning: To copy construct from a tensor, it is recommended to use sourceTensor.clone().detach() or sourceTensor.clone().detach().requires_grad_(True), rather than torch.tensor(sourceTensor).\n",
      "  state = torch.tensor(state, dtype=torch.float32, device=device).unsqueeze(0)\n"
     ]
    },
    {
     "name": "stdout",
     "output_type": "stream",
     "text": [
      "Episode: 15 Net worth: 994.2440822977424\n",
      "Episode 15 loss: 432.1989440917969\n"
     ]
    },
    {
     "name": "stderr",
     "output_type": "stream",
     "text": [
      "/var/folders/4w/q37s19t15xg3s29s2zm_1dcw0000gn/T/ipykernel_40545/1373357421.py:155: UserWarning: To copy construct from a tensor, it is recommended to use sourceTensor.clone().detach() or sourceTensor.clone().detach().requires_grad_(True), rather than torch.tensor(sourceTensor).\n",
      "  state = torch.tensor(state, dtype=torch.float32, device=device).unsqueeze(0)\n"
     ]
    },
    {
     "name": "stdout",
     "output_type": "stream",
     "text": [
      "Episode: 16 Net worth: 992.9564853862582\n",
      "Episode 16 loss: 224.14532470703125\n"
     ]
    },
    {
     "name": "stderr",
     "output_type": "stream",
     "text": [
      "/var/folders/4w/q37s19t15xg3s29s2zm_1dcw0000gn/T/ipykernel_40545/1373357421.py:155: UserWarning: To copy construct from a tensor, it is recommended to use sourceTensor.clone().detach() or sourceTensor.clone().detach().requires_grad_(True), rather than torch.tensor(sourceTensor).\n",
      "  state = torch.tensor(state, dtype=torch.float32, device=device).unsqueeze(0)\n"
     ]
    },
    {
     "name": "stdout",
     "output_type": "stream",
     "text": [
      "Episode: 17 Net worth: 1015.4823901876191\n",
      "Episode 17 loss: 276.38043212890625\n"
     ]
    },
    {
     "name": "stderr",
     "output_type": "stream",
     "text": [
      "/var/folders/4w/q37s19t15xg3s29s2zm_1dcw0000gn/T/ipykernel_40545/1373357421.py:155: UserWarning: To copy construct from a tensor, it is recommended to use sourceTensor.clone().detach() or sourceTensor.clone().detach().requires_grad_(True), rather than torch.tensor(sourceTensor).\n",
      "  state = torch.tensor(state, dtype=torch.float32, device=device).unsqueeze(0)\n"
     ]
    },
    {
     "name": "stdout",
     "output_type": "stream",
     "text": [
      "Episode: 18 Net worth: 997.5316910975777\n",
      "Episode 18 loss: 211.25527954101562\n"
     ]
    },
    {
     "name": "stderr",
     "output_type": "stream",
     "text": [
      "/var/folders/4w/q37s19t15xg3s29s2zm_1dcw0000gn/T/ipykernel_40545/1373357421.py:155: UserWarning: To copy construct from a tensor, it is recommended to use sourceTensor.clone().detach() or sourceTensor.clone().detach().requires_grad_(True), rather than torch.tensor(sourceTensor).\n",
      "  state = torch.tensor(state, dtype=torch.float32, device=device).unsqueeze(0)\n"
     ]
    },
    {
     "name": "stdout",
     "output_type": "stream",
     "text": [
      "Episode: 19 Net worth: 1074.2856249553013\n",
      "Episode 19 loss: 41.19506072998047\n"
     ]
    },
    {
     "data": {
      "image/png": "[encoded data removed]",
      "text/plain": [
       "<Figure size 1600x800 with 3 Axes>"
      ]
     },
     "metadata": {},
     "output_type": "display_data"
    }
   ],
   "source": [
    "lookback_window_size = 50\n",
    "data_path = \"../data/binance-BTCUSDT-1h.pkl\"\n",
    "df = pd.read_pickle(data_path)\n",
    "train_size = int(len(df) * 0.7)\n",
    "train_df = df[:train_size]\n",
    "\n",
    "lookback_window_size = 50\n",
    "\n",
    "train_env = TradingEnv(train_df, lookback_window_size=lookback_window_size)\n",
    "\n",
    "train_agent(train_env, visualize=False, train_episodes=20, training_batch_size=3000) # 4달 동안 거래 진행"
   ]
  },
  {
   "cell_type": "code",
   "execution_count": 377,
   "metadata": {},
   "outputs": [
    {
     "ename": "FileNotFoundError",
     "evalue": "[Errno 2] No such file or directory: './dqn/dqn_Target.h5'",
     "output_type": "error",
     "traceback": [
      "\u001b[0;31m---------------------------------------------------------------------------\u001b[0m",
      "\u001b[0;31mFileNotFoundError\u001b[0m                         Traceback (most recent call last)",
      "Cell \u001b[0;32mIn[377], line 6\u001b[0m\n\u001b[1;32m      1\u001b[0m test_df \u001b[38;5;241m=\u001b[39m df[train_size:]\n\u001b[1;32m      4\u001b[0m test_env \u001b[38;5;241m=\u001b[39m TradingEnv(test_df, lookback_window_size\u001b[38;5;241m=\u001b[39mlookback_window_size)\n\u001b[0;32m----> 6\u001b[0m \u001b[43mtest_agent\u001b[49m\u001b[43m(\u001b[49m\u001b[43mtest_env\u001b[49m\u001b[43m,\u001b[49m\u001b[43m \u001b[49m\u001b[43mvisualize\u001b[49m\u001b[38;5;241;43m=\u001b[39;49m\u001b[38;5;28;43;01mFalse\u001b[39;49;00m\u001b[43m,\u001b[49m\u001b[43m \u001b[49m\u001b[43mtest_episodes\u001b[49m\u001b[38;5;241;43m=\u001b[39;49m\u001b[38;5;241;43m1\u001b[39;49m\u001b[43m)\u001b[49m\n",
      "Cell \u001b[0;32mIn[42], line 2\u001b[0m, in \u001b[0;36mtest_agent\u001b[0;34m(env, visualize, test_episodes)\u001b[0m\n\u001b[1;32m      1\u001b[0m \u001b[38;5;28;01mdef\u001b[39;00m \u001b[38;5;21mtest_agent\u001b[39m(env, visualize\u001b[38;5;241m=\u001b[39m\u001b[38;5;28;01mTrue\u001b[39;00m, test_episodes\u001b[38;5;241m=\u001b[39m\u001b[38;5;241m1\u001b[39m):\n\u001b[0;32m----> 2\u001b[0m     \u001b[43menv\u001b[49m\u001b[38;5;241;43m.\u001b[39;49m\u001b[43mload\u001b[49m\u001b[43m(\u001b[49m\u001b[43m)\u001b[49m \u001b[38;5;66;03m# load the model\u001b[39;00m\n\u001b[1;32m      3\u001b[0m     \u001b[38;5;28;01mfor\u001b[39;00m episode \u001b[38;5;129;01min\u001b[39;00m \u001b[38;5;28mrange\u001b[39m(test_episodes):\n\u001b[1;32m      4\u001b[0m         state \u001b[38;5;241m=\u001b[39m env\u001b[38;5;241m.\u001b[39mreset()\n",
      "Cell \u001b[0;32mIn[373], line 174\u001b[0m, in \u001b[0;36mTradingEnv.load\u001b[0;34m(self, name)\u001b[0m\n\u001b[1;32m    173\u001b[0m \u001b[38;5;28;01mdef\u001b[39;00m \u001b[38;5;21mload\u001b[39m(\u001b[38;5;28mself\u001b[39m, name\u001b[38;5;241m=\u001b[39m\u001b[38;5;124m\"\u001b[39m\u001b[38;5;124mdqn\u001b[39m\u001b[38;5;124m\"\u001b[39m):\n\u001b[0;32m--> 174\u001b[0m     \u001b[38;5;28mself\u001b[39m\u001b[38;5;241m.\u001b[39mTarget\u001b[38;5;241m.\u001b[39mload_state_dict(\u001b[43mtorch\u001b[49m\u001b[38;5;241;43m.\u001b[39;49m\u001b[43mload\u001b[49m\u001b[43m(\u001b[49m\u001b[38;5;124;43mf\u001b[39;49m\u001b[38;5;124;43m'\u001b[39;49m\u001b[38;5;124;43m./dqn/\u001b[39;49m\u001b[38;5;132;43;01m{\u001b[39;49;00m\u001b[43mname\u001b[49m\u001b[38;5;132;43;01m}\u001b[39;49;00m\u001b[38;5;124;43m_Target.h5\u001b[39;49m\u001b[38;5;124;43m'\u001b[39;49m\u001b[43m,\u001b[49m\u001b[43m \u001b[49m\u001b[43mweights_only\u001b[49m\u001b[38;5;241;43m=\u001b[39;49m\u001b[38;5;28;43;01mTrue\u001b[39;49;00m\u001b[43m)\u001b[49m)\n\u001b[1;32m    175\u001b[0m     \u001b[38;5;66;03m#self.Behaviour.load_state_dict(torch.load(f'./dqn/{name}_Behaviour.h5', weights_only=True))\u001b[39;00m\n\u001b[1;32m    176\u001b[0m     \u001b[38;5;28mself\u001b[39m\u001b[38;5;241m.\u001b[39mBehaviour\u001b[38;5;241m.\u001b[39mload_state_dict(torch\u001b[38;5;241m.\u001b[39mload(\u001b[38;5;124mf\u001b[39m\u001b[38;5;124m'\u001b[39m\u001b[38;5;124m./dqn/\u001b[39m\u001b[38;5;132;01m{\u001b[39;00mname\u001b[38;5;132;01m}\u001b[39;00m\u001b[38;5;124m_Target.h5\u001b[39m\u001b[38;5;124m'\u001b[39m, weights_only\u001b[38;5;241m=\u001b[39m\u001b[38;5;28;01mTrue\u001b[39;00m))\n",
      "File \u001b[0;32m~/Desktop/MATH70101 Deep Learning/Coursework III/dl-cw-3-gpu/lib/python3.11/site-packages/torch/serialization.py:1065\u001b[0m, in \u001b[0;36mload\u001b[0;34m(f, map_location, pickle_module, weights_only, mmap, **pickle_load_args)\u001b[0m\n\u001b[1;32m   1062\u001b[0m \u001b[38;5;28;01mif\u001b[39;00m \u001b[38;5;124m'\u001b[39m\u001b[38;5;124mencoding\u001b[39m\u001b[38;5;124m'\u001b[39m \u001b[38;5;129;01mnot\u001b[39;00m \u001b[38;5;129;01min\u001b[39;00m pickle_load_args\u001b[38;5;241m.\u001b[39mkeys():\n\u001b[1;32m   1063\u001b[0m     pickle_load_args[\u001b[38;5;124m'\u001b[39m\u001b[38;5;124mencoding\u001b[39m\u001b[38;5;124m'\u001b[39m] \u001b[38;5;241m=\u001b[39m \u001b[38;5;124m'\u001b[39m\u001b[38;5;124mutf-8\u001b[39m\u001b[38;5;124m'\u001b[39m\n\u001b[0;32m-> 1065\u001b[0m \u001b[38;5;28;01mwith\u001b[39;00m \u001b[43m_open_file_like\u001b[49m\u001b[43m(\u001b[49m\u001b[43mf\u001b[49m\u001b[43m,\u001b[49m\u001b[43m \u001b[49m\u001b[38;5;124;43m'\u001b[39;49m\u001b[38;5;124;43mrb\u001b[39;49m\u001b[38;5;124;43m'\u001b[39;49m\u001b[43m)\u001b[49m \u001b[38;5;28;01mas\u001b[39;00m opened_file:\n\u001b[1;32m   1066\u001b[0m     \u001b[38;5;28;01mif\u001b[39;00m _is_zipfile(opened_file):\n\u001b[1;32m   1067\u001b[0m         \u001b[38;5;66;03m# The zipfile reader is going to advance the current file position.\u001b[39;00m\n\u001b[1;32m   1068\u001b[0m         \u001b[38;5;66;03m# If we want to actually tail call to torch.jit.load, we need to\u001b[39;00m\n\u001b[1;32m   1069\u001b[0m         \u001b[38;5;66;03m# reset back to the original position.\u001b[39;00m\n\u001b[1;32m   1070\u001b[0m         orig_position \u001b[38;5;241m=\u001b[39m opened_file\u001b[38;5;241m.\u001b[39mtell()\n",
      "File \u001b[0;32m~/Desktop/MATH70101 Deep Learning/Coursework III/dl-cw-3-gpu/lib/python3.11/site-packages/torch/serialization.py:468\u001b[0m, in \u001b[0;36m_open_file_like\u001b[0;34m(name_or_buffer, mode)\u001b[0m\n\u001b[1;32m    466\u001b[0m \u001b[38;5;28;01mdef\u001b[39;00m \u001b[38;5;21m_open_file_like\u001b[39m(name_or_buffer, mode):\n\u001b[1;32m    467\u001b[0m     \u001b[38;5;28;01mif\u001b[39;00m _is_path(name_or_buffer):\n\u001b[0;32m--> 468\u001b[0m         \u001b[38;5;28;01mreturn\u001b[39;00m \u001b[43m_open_file\u001b[49m\u001b[43m(\u001b[49m\u001b[43mname_or_buffer\u001b[49m\u001b[43m,\u001b[49m\u001b[43m \u001b[49m\u001b[43mmode\u001b[49m\u001b[43m)\u001b[49m\n\u001b[1;32m    469\u001b[0m     \u001b[38;5;28;01melse\u001b[39;00m:\n\u001b[1;32m    470\u001b[0m         \u001b[38;5;28;01mif\u001b[39;00m \u001b[38;5;124m'\u001b[39m\u001b[38;5;124mw\u001b[39m\u001b[38;5;124m'\u001b[39m \u001b[38;5;129;01min\u001b[39;00m mode:\n",
      "File \u001b[0;32m~/Desktop/MATH70101 Deep Learning/Coursework III/dl-cw-3-gpu/lib/python3.11/site-packages/torch/serialization.py:449\u001b[0m, in \u001b[0;36m_open_file.__init__\u001b[0;34m(self, name, mode)\u001b[0m\n\u001b[1;32m    448\u001b[0m \u001b[38;5;28;01mdef\u001b[39;00m \u001b[38;5;21m__init__\u001b[39m(\u001b[38;5;28mself\u001b[39m, name, mode):\n\u001b[0;32m--> 449\u001b[0m     \u001b[38;5;28msuper\u001b[39m()\u001b[38;5;241m.\u001b[39m\u001b[38;5;21m__init__\u001b[39m(\u001b[38;5;28;43mopen\u001b[39;49m\u001b[43m(\u001b[49m\u001b[43mname\u001b[49m\u001b[43m,\u001b[49m\u001b[43m \u001b[49m\u001b[43mmode\u001b[49m\u001b[43m)\u001b[49m)\n",
      "\u001b[0;31mFileNotFoundError\u001b[0m: [Errno 2] No such file or directory: './dqn/dqn_Target.h5'"
     ]
    }
   ],
   "source": [
    "test_df = df[train_size:]\n",
    "\n",
    "\n",
    "test_env = TradingEnv(test_df, lookback_window_size=lookback_window_size)\n",
    "\n",
    "test_agent(test_env, visualize=False, test_episodes=1)"
   ]
  },
  {
   "cell_type": "code",
   "execution_count": 149,
   "metadata": {},
   "outputs": [],
   "source": [
    "lookback_window_size = 50\n",
    "data_path = \"../data/binance-BTCUSDT-1h.pkl\"\n",
    "df = pd.read_pickle(data_path)\n",
    "train_size = int(len(df) * 0.7)\n",
    "train_df = df[:train_size]\n",
    "\n",
    "lookback_window_size = 50\n",
    "train_env = TradingEnv(train_df, lookback_window_size=lookback_window_size)"
   ]
  },
  {
   "cell_type": "code",
   "execution_count": 283,
   "metadata": {},
   "outputs": [
    {
     "name": "stderr",
     "output_type": "stream",
     "text": [
      "/var/folders/4w/q37s19t15xg3s29s2zm_1dcw0000gn/T/ipykernel_40545/3532252129.py:155: UserWarning: To copy construct from a tensor, it is recommended to use sourceTensor.clone().detach() or sourceTensor.clone().detach().requires_grad_(True), rather than torch.tensor(sourceTensor).\n",
      "  state = torch.tensor(state, dtype=torch.float32, device=device).unsqueeze(0)\n"
     ]
    },
    {
     "data": {
      "image/png": "[encoded data removed]",
      "text/plain": [
       "<Figure size 1600x800 with 3 Axes>"
      ]
     },
     "metadata": {},
     "output_type": "display_data"
    }
   ],
   "source": [
    "# 우선 100번 timestep만큼 돌려보자\n",
    "\n",
    "lookback_window_size = 50\n",
    "data_path = \"../data/binance-BTCUSDT-1h.pkl\"\n",
    "df = pd.read_pickle(data_path)\n",
    "train_size = int(len(df) * 0.7)\n",
    "train_df = df[:train_size]\n",
    "\n",
    "lookback_window_size = 50\n",
    "\n",
    "train_env = TradingEnv(train_df, lookback_window_size=lookback_window_size)\n",
    "\n",
    "memory = ReplayMemory(1000)\n",
    "\n",
    "state = train_env.reset(env_steps_size = 500)\n",
    "state = torch.tensor(state, dtype=torch.float32, device=device).unsqueeze(0)\n",
    "\n",
    "for _ in range(100):\n",
    "    action = train_env.act(state, testmode=False)\n",
    "    next_state, reward, done = train_env.step(action)\n",
    "    next_state = torch.tensor(next_state, dtype=torch.float32, device=device).unsqueeze(0)\n",
    "    reward = torch.tensor(reward, dtype=torch.float32, device=device).unsqueeze(0)\n",
    "    memory.push(state, action, next_state, reward)\n",
    "    state = next_state\n",
    "    #train_env.optimize_model()\n"
   ]
  },
  {
   "cell_type": "code",
   "execution_count": 284,
   "metadata": {},
   "outputs": [],
   "source": [
    "Transition = namedtuple('Transition',\n",
    "                ('state', 'action', 'next_state', 'reward'))"
   ]
  },
  {
   "cell_type": "code",
   "execution_count": 285,
   "metadata": {},
   "outputs": [],
   "source": [
    "transitions = memory.sample(5)"
   ]
  },
  {
   "cell_type": "code",
   "execution_count": 286,
   "metadata": {},
   "outputs": [],
   "source": [
    "batch = Transition(*zip(*transitions))"
   ]
  },
  {
   "cell_type": "code",
   "execution_count": 287,
   "metadata": {},
   "outputs": [
    {
     "data": {
      "text/plain": [
       "torch.Size([1, 50, 10])"
      ]
     },
     "execution_count": 287,
     "metadata": {},
     "output_type": "execute_result"
    }
   ],
   "source": [
    "state.shape"
   ]
  },
  {
   "cell_type": "code",
   "execution_count": 288,
   "metadata": {},
   "outputs": [],
   "source": [
    "non_final_mask = torch.tensor(tuple(map(lambda s: s is not None,\n",
    "                                    batch.next_state)), device=device, dtype=torch.bool)\n",
    "non_final_next_states = torch.cat([s for s in batch.next_state\n",
    "                                            if s is not None])\n",
    "state_batch = torch.cat(batch.state)\n",
    "action_batch = torch.cat(batch.action)\n",
    "reward_batch = torch.cat(batch.reward)"
   ]
  },
  {
   "cell_type": "code",
   "execution_count": 289,
   "metadata": {},
   "outputs": [],
   "source": [
    "state_action_values = train_env.Target(state_batch).gather(1, action_batch)"
   ]
  },
  {
   "cell_type": "code",
   "execution_count": 290,
   "metadata": {},
   "outputs": [
    {
     "data": {
      "text/plain": [
       "tensor([[22488.3027],\n",
       "        [22913.6582],\n",
       "        [22518.2168],\n",
       "        [22880.6055],\n",
       "        [22977.6406]], device='mps:0', grad_fn=<GatherBackward0>)"
      ]
     },
     "execution_count": 290,
     "metadata": {},
     "output_type": "execute_result"
    }
   ],
   "source": [
    "state_action_values"
   ]
  },
  {
   "cell_type": "code",
   "execution_count": 291,
   "metadata": {},
   "outputs": [
    {
     "data": {
      "text/plain": [
       "torch.Size([5, 1])"
      ]
     },
     "execution_count": 291,
     "metadata": {},
     "output_type": "execute_result"
    }
   ],
   "source": [
    "state_action_values.shape"
   ]
  },
  {
   "cell_type": "code",
   "execution_count": 292,
   "metadata": {},
   "outputs": [],
   "source": [
    "next_state_values = torch.zeros(5, device=device)\n",
    "next_state_values[non_final_mask] = train_env.Behaviour(non_final_next_states).max(1).values"
   ]
  },
  {
   "cell_type": "code",
   "execution_count": 293,
   "metadata": {},
   "outputs": [],
   "source": [
    "expected_state_action_values = (next_state_values * 0.99) + reward_batch\n"
   ]
  },
  {
   "cell_type": "code",
   "execution_count": 294,
   "metadata": {},
   "outputs": [
    {
     "data": {
      "text/plain": [
       "tensor([40498.9531, 41001.0938, 41776.1094, 40411.8008, 40379.3047],\n",
       "       device='mps:0', grad_fn=<AddBackward0>)"
      ]
     },
     "execution_count": 294,
     "metadata": {},
     "output_type": "execute_result"
    }
   ],
   "source": [
    "expected_state_action_values"
   ]
  },
  {
   "cell_type": "code",
   "execution_count": 295,
   "metadata": {},
   "outputs": [
    {
     "data": {
      "text/plain": [
       "torch.Size([5, 1])"
      ]
     },
     "execution_count": 295,
     "metadata": {},
     "output_type": "execute_result"
    }
   ],
   "source": [
    "expected_state_action_values = expected_state_action_values.unsqueeze(1)\n",
    "expected_state_action_values.shape"
   ]
  },
  {
   "cell_type": "code",
   "execution_count": 296,
   "metadata": {},
   "outputs": [],
   "source": [
    "train_env.Behaviour.train()\n",
    "criterion = nn.MSELoss()\n",
    "optimizer = optim.Adam(train_env.Behaviour.parameters(), lr=0.0001)\n",
    "loss = criterion(state_action_values, expected_state_action_values)\n",
    "loss.backward()\n",
    "optimizer.step()"
   ]
  },
  {
   "cell_type": "code",
   "execution_count": 297,
   "metadata": {},
   "outputs": [
    {
     "data": {
      "text/plain": [
       "tensor(3.2651e+08, device='mps:0', grad_fn=<MseLossBackward0>)"
      ]
     },
     "execution_count": 297,
     "metadata": {},
     "output_type": "execute_result"
    }
   ],
   "source": [
    "loss"
   ]
  },
  {
   "cell_type": "code",
   "execution_count": null,
   "metadata": {},
   "outputs": [],
   "source": []
  },
  {
   "cell_type": "code",
   "execution_count": null,
   "metadata": {},
   "outputs": [],
   "source": [
    "        self.batch_size = 10\n",
    "        self.gamma = 0.99\n",
    "        self.eps_start = 0.9\n",
    "        self.eps_end = 0.05\n",
    "        self.eps_decay = 1000\n",
    "        self.tau = 0.1\n",
    "        self.lr = 1e-4\n",
    "        self.C = 10 # Update target every C steps\n",
    "        self.losses = []\n",
    "        self.ratio = 0.1"
   ]
  },
  {
   "cell_type": "markdown",
   "metadata": {},
   "source": [
    "loss 값이 너무 크지 않나?"
   ]
  },
  {
   "cell_type": "code",
   "execution_count": null,
   "metadata": {},
   "outputs": [],
   "source": [
    "self.optimizer.zero_grad()"
   ]
  },
  {
   "cell_type": "code",
   "execution_count": null,
   "metadata": {},
   "outputs": [],
   "source": []
  },
  {
   "cell_type": "markdown",
   "metadata": {},
   "source": []
  },
  {
   "cell_type": "code",
   "execution_count": null,
   "metadata": {},
   "outputs": [],
   "source": []
  },
  {
   "cell_type": "code",
   "execution_count": 62,
   "metadata": {},
   "outputs": [
    {
     "name": "stderr",
     "output_type": "stream",
     "text": [
      "/var/folders/4w/q37s19t15xg3s29s2zm_1dcw0000gn/T/ipykernel_40545/2771068930.py:153: UserWarning: To copy construct from a tensor, it is recommended to use sourceTensor.clone().detach() or sourceTensor.clone().detach().requires_grad_(True), rather than torch.tensor(sourceTensor).\n",
      "  state = torch.tensor(state, dtype=torch.float32, device=device).unsqueeze(0)\n"
     ]
    },
    {
     "name": "stdout",
     "output_type": "stream",
     "text": [
      "Episode: 0 Net worth: 10948.409554957512\n",
      "Episode 0 average loss: nan\n"
     ]
    },
    {
     "name": "stderr",
     "output_type": "stream",
     "text": [
      "/Users/fredjeong/Desktop/MATH70101 Deep Learning/Coursework III/dl-cw-3-gpu/lib/python3.11/site-packages/numpy/core/fromnumeric.py:3504: RuntimeWarning: Mean of empty slice.\n",
      "  return _methods._mean(a, axis=axis, dtype=dtype,\n",
      "/Users/fredjeong/Desktop/MATH70101 Deep Learning/Coursework III/dl-cw-3-gpu/lib/python3.11/site-packages/numpy/core/_methods.py:129: RuntimeWarning: invalid value encountered in scalar divide\n",
      "  ret = ret.dtype.type(ret / rcount)\n"
     ]
    },
    {
     "data": {
      "image/png": "[encoded data removed]",
      "text/plain": [
       "<Figure size 1600x800 with 3 Axes>"
      ]
     },
     "metadata": {},
     "output_type": "display_data"
    }
   ],
   "source": [
    "lookback_window_size = 50\n",
    "data_path = \"../data/binance-BTCUSDT-1h.pkl\"\n",
    "df = pd.read_pickle(data_path)\n",
    "train_size = int(len(df) * 0.7)\n",
    "train_df = df[:train_size]\n",
    "\n",
    "lookback_window_size = 50\n",
    "\n",
    "train_env = TradingEnv(train_df, lookback_window_size=lookback_window_size)\n",
    "\n",
    "train_agent(train_env, visualize=False, train_episodes=1, training_batch_size=500)"
   ]
  },
  {
   "cell_type": "markdown",
   "metadata": {},
   "source": [
    "Loss가 nan으로 나오는 것을 보아 학습이 제대로 진행되고 있지 않다는 것을 알 수 있다. 단계별로 뜯어가며 원인을 알아보도록 하자."
   ]
  },
  {
   "cell_type": "code",
   "execution_count": 65,
   "metadata": {},
   "outputs": [
    {
     "data": {
      "text/plain": [
       "<__main__.ReplayMemory at 0x2b4fe7a90>"
      ]
     },
     "execution_count": 65,
     "metadata": {},
     "output_type": "execute_result"
    }
   ],
   "source": [
    "# Experience replay 메모리 초기화\n",
    "memory = ReplayMemory(1000)\n",
    "memory"
   ]
  },
  {
   "cell_type": "code",
   "execution_count": 66,
   "metadata": {},
   "outputs": [
    {
     "data": {
      "text/plain": [
       "array([[ 6439.55    ,  6515.      ,  6439.55    ,  6514.07    ,\n",
       "         2564.814102, 10000.      , 10000.      ,     0.      ,\n",
       "            0.      ,     0.      ],\n",
       "       [ 6514.78    ,  6523.23    ,  6445.      ,  6449.66    ,\n",
       "         2638.245186, 10000.      , 10000.      ,     0.      ,\n",
       "            0.      ,     0.      ],\n",
       "       [ 6449.62    ,  6480.      ,  6408.      ,  6439.47    ,\n",
       "         3522.060908, 10000.      , 10000.      ,     0.      ,\n",
       "            0.      ,     0.      ],\n",
       "       [ 6439.47    ,  6465.      ,  6378.      ,  6398.93    ,\n",
       "         3855.135175, 10000.      , 10000.      ,     0.      ,\n",
       "            0.      ,     0.      ],\n",
       "       [ 6398.09    ,  6453.      ,  6380.96    ,  6415.6     ,\n",
       "         2207.248162, 10000.      , 10000.      ,     0.      ,\n",
       "            0.      ,     0.      ],\n",
       "       [ 6415.6     ,  6471.56    ,  6390.      ,  6471.56    ,\n",
       "         3093.525912, 10000.      , 10000.      ,     0.      ,\n",
       "            0.      ,     0.      ],\n",
       "       [ 6471.56    ,  6473.68    ,  6425.48    ,  6445.09    ,\n",
       "         2008.266984, 10000.      , 10000.      ,     0.      ,\n",
       "            0.      ,     0.      ],\n",
       "       [ 6445.11    ,  6505.5     ,  6441.71    ,  6493.93    ,\n",
       "         3412.169747, 10000.      , 10000.      ,     0.      ,\n",
       "            0.      ,     0.      ],\n",
       "       [ 6492.98    ,  6499.      ,  6425.      ,  6440.04    ,\n",
       "         3365.663583, 10000.      , 10000.      ,     0.      ,\n",
       "            0.      ,     0.      ],\n",
       "       [ 6440.04    ,  6441.3     ,  6404.      ,  6431.32    ,\n",
       "         2779.521484, 10000.      , 10000.      ,     0.      ,\n",
       "            0.      ,     0.      ],\n",
       "       [ 6431.48    ,  6432.29    ,  6330.01    ,  6387.19    ,\n",
       "         5307.474472, 10000.      , 10000.      ,     0.      ,\n",
       "            0.      ,     0.      ],\n",
       "       [ 6387.73    ,  6461.95    ,  6321.4     ,  6447.37    ,\n",
       "         4797.736674, 10000.      , 10000.      ,     0.      ,\n",
       "            0.      ,     0.      ],\n",
       "       [ 6447.23    ,  6481.28    ,  6400.07    ,  6418.      ,\n",
       "         4091.874182, 10000.      , 10000.      ,     0.      ,\n",
       "            0.      ,     0.      ],\n",
       "       [ 6418.      ,  6484.95    ,  6415.15    ,  6452.04    ,\n",
       "         3234.975701, 10000.      , 10000.      ,     0.      ,\n",
       "            0.      ,     0.      ],\n",
       "       [ 6452.04    ,  6500.      ,  6424.      ,  6454.12    ,\n",
       "         3921.332904, 10000.      , 10000.      ,     0.      ,\n",
       "            0.      ,     0.      ],\n",
       "       [ 6454.12    ,  6469.94    ,  6414.05    ,  6427.59    ,\n",
       "         2812.788888, 10000.      , 10000.      ,     0.      ,\n",
       "            0.      ,     0.      ],\n",
       "       [ 6427.48    ,  6459.      ,  6401.      ,  6452.79    ,\n",
       "         2362.325763, 10000.      , 10000.      ,     0.      ,\n",
       "            0.      ,     0.      ],\n",
       "       [ 6452.79    ,  6486.6     ,  6444.82    ,  6462.37    ,\n",
       "         2326.746275, 10000.      , 10000.      ,     0.      ,\n",
       "            0.      ,     0.      ],\n",
       "       [ 6462.87    ,  6475.      ,  6430.32    ,  6463.47    ,\n",
       "         2485.858941, 10000.      , 10000.      ,     0.      ,\n",
       "            0.      ,     0.      ],\n",
       "       [ 6465.32    ,  6494.9     ,  6447.75    ,  6467.5     ,\n",
       "         2503.512996, 10000.      , 10000.      ,     0.      ,\n",
       "            0.      ,     0.      ],\n",
       "       [ 6467.34    ,  6485.      ,  6420.      ,  6442.61    ,\n",
       "         2112.043684, 10000.      , 10000.      ,     0.      ,\n",
       "            0.      ,     0.      ],\n",
       "       [ 6442.6     ,  6448.      ,  6420.64    ,  6431.55    ,\n",
       "         1197.645169, 10000.      , 10000.      ,     0.      ,\n",
       "            0.      ,     0.      ],\n",
       "       [ 6431.55    ,  6440.99    ,  6386.89    ,  6410.44    ,\n",
       "         2279.883541, 10000.      , 10000.      ,     0.      ,\n",
       "            0.      ,     0.      ],\n",
       "       [ 6412.14    ,  6426.52    ,  6239.34    ,  6305.12    ,\n",
       "         9061.280945, 10000.      , 10000.      ,     0.      ,\n",
       "            0.      ,     0.      ],\n",
       "       [ 6305.5     ,  6327.93    ,  6285.25    ,  6293.64    ,\n",
       "         2275.174783, 10000.      , 10000.      ,     0.      ,\n",
       "            0.      ,     0.      ],\n",
       "       [ 6291.99    ,  6320.49    ,  6287.6     ,  6317.4     ,\n",
       "         1805.203416, 10000.      , 10000.      ,     0.      ,\n",
       "            0.      ,     0.      ],\n",
       "       [ 6318.24    ,  6381.7     ,  6310.89    ,  6368.68    ,\n",
       "         2948.571424, 10000.      , 10000.      ,     0.      ,\n",
       "            0.      ,     0.      ],\n",
       "       [ 6368.74    ,  6376.28    ,  6333.06    ,  6342.      ,\n",
       "         1834.461796, 10000.      , 10000.      ,     0.      ,\n",
       "            0.      ,     0.      ],\n",
       "       [ 6342.01    ,  6346.99    ,  6288.23    ,  6304.46    ,\n",
       "         2019.881293, 10000.      , 10000.      ,     0.      ,\n",
       "            0.      ,     0.      ],\n",
       "       [ 6304.46    ,  6322.      ,  6271.14    ,  6299.79    ,\n",
       "         3532.852801, 10000.      , 10000.      ,     0.      ,\n",
       "            0.      ,     0.      ],\n",
       "       [ 6299.77    ,  6337.96    ,  6287.03    ,  6331.96    ,\n",
       "         2211.291462, 10000.      , 10000.      ,     0.      ,\n",
       "            0.      ,     0.      ],\n",
       "       [ 6330.87    ,  6330.87    ,  6285.      ,  6306.69    ,\n",
       "         2200.56454 , 10000.      , 10000.      ,     0.      ,\n",
       "            0.      ,     0.      ],\n",
       "       [ 6307.01    ,  6314.3     ,  6257.32    ,  6300.      ,\n",
       "         2730.942571, 10000.      , 10000.      ,     0.      ,\n",
       "            0.      ,     0.      ],\n",
       "       [ 6299.99    ,  6320.1     ,  6286.58    ,  6291.71    ,\n",
       "         2061.051311, 10000.      , 10000.      ,     0.      ,\n",
       "            0.      ,     0.      ],\n",
       "       [ 6291.      ,  6306.09    ,  6269.99    ,  6296.87    ,\n",
       "         2152.682932, 10000.      , 10000.      ,     0.      ,\n",
       "            0.      ,     0.      ],\n",
       "       [ 6297.      ,  6340.81    ,  6210.93    ,  6219.29    ,\n",
       "         6114.421833, 10000.      , 10000.      ,     0.      ,\n",
       "            0.      ,     0.      ],\n",
       "       [ 6219.29    ,  6239.89    ,  6170.      ,  6206.39    ,\n",
       "         4265.084035, 10000.      , 10000.      ,     0.      ,\n",
       "            0.      ,     0.      ],\n",
       "       [ 6205.99    ,  6260.73    ,  6199.      ,  6251.13    ,\n",
       "         3685.062345, 10000.      , 10000.      ,     0.      ,\n",
       "            0.      ,     0.      ],\n",
       "       [ 6250.51    ,  6258.43    ,  6215.01    ,  6230.09    ,\n",
       "         2774.812535, 10000.      , 10000.      ,     0.      ,\n",
       "            0.      ,     0.      ],\n",
       "       [ 6230.01    ,  6230.01    ,  6150.11    ,  6182.38    ,\n",
       "         4617.679879, 10000.      , 10000.      ,     0.      ,\n",
       "            0.      ,     0.      ],\n",
       "       [ 6182.38    ,  6212.      ,  6165.07    ,  6194.57    ,\n",
       "         2414.859342, 10000.      , 10000.      ,     0.      ,\n",
       "            0.      ,     0.      ],\n",
       "       [ 6194.56    ,  6220.      ,  6184.32    ,  6186.86    ,\n",
       "         1801.090689, 10000.      , 10000.      ,     0.      ,\n",
       "            0.      ,     0.      ],\n",
       "       [ 6187.99    ,  6212.96    ,  6164.28    ,  6200.81    ,\n",
       "         2408.938106, 10000.      , 10000.      ,     0.      ,\n",
       "            0.      ,     0.      ],\n",
       "       [ 6200.11    ,  6380.      ,  6193.1     ,  6337.      ,\n",
       "         6818.827306, 10000.      , 10000.      ,     0.      ,\n",
       "            0.      ,     0.      ],\n",
       "       [ 6337.45    ,  6400.      ,  6332.6     ,  6354.      ,\n",
       "         4350.744084, 10000.      , 10000.      ,     0.      ,\n",
       "            0.      ,     0.      ],\n",
       "       [ 6354.      ,  6594.97    ,  6352.52    ,  6520.75    ,\n",
       "        12176.841884, 10000.      , 10000.      ,     0.      ,\n",
       "            0.      ,     0.      ],\n",
       "       [ 6520.76    ,  6679.94    ,  6500.      ,  6642.92    ,\n",
       "        11238.431088, 10000.      , 10000.      ,     0.      ,\n",
       "            0.      ,     0.      ],\n",
       "       [ 6643.36    ,  6744.      ,  6580.      ,  6617.76    ,\n",
       "         9703.860411, 10000.      , 10000.      ,     0.      ,\n",
       "            0.      ,     0.      ],\n",
       "       [ 6617.24    ,  6639.23    ,  6551.      ,  6566.08    ,\n",
       "         4225.665454, 10000.      , 10000.      ,     0.      ,\n",
       "            0.      ,     0.      ],\n",
       "       [ 6567.37    ,  6617.48    ,  6563.96    ,  6604.93    ,\n",
       "         2907.396035, 10000.      , 10000.      ,     0.      ,\n",
       "            0.      ,     0.      ]])"
      ]
     },
     "execution_count": 66,
     "metadata": {},
     "output_type": "execute_result"
    },
    {
     "data": {
      "image/png": "[encoded data removed]",
      "text/plain": [
       "<Figure size 1600x800 with 3 Axes>"
      ]
     },
     "metadata": {},
     "output_type": "display_data"
    }
   ],
   "source": [
    "# State 초기화\n",
    "state = train_env.reset()\n",
    "state"
   ]
  },
  {
   "cell_type": "markdown",
   "metadata": {},
   "source": [
    "State까지는 제대로 printe되고 있음을 알 수 있다. 다음으로 action을 잘 취하는지 알아보도록 하자."
   ]
  },
  {
   "cell_type": "code",
   "execution_count": 67,
   "metadata": {},
   "outputs": [
    {
     "data": {
      "text/plain": [
       "tensor([[0]], device='mps:0')"
      ]
     },
     "execution_count": 67,
     "metadata": {},
     "output_type": "execute_result"
    }
   ],
   "source": [
    "action = train_env.act(state, testmode=False)\n",
    "action"
   ]
  },
  {
   "cell_type": "code",
   "execution_count": null,
   "metadata": {},
   "outputs": [],
   "source": [
    "            next_state, reward, done = env.step(action)\n",
    "            if done:\n",
    "                break\n",
    "            #action_onehot = np.zeros(3)\n",
    "            #action_onehot[action] = 1\n",
    "            memory.push(state, action, next_state, reward) # Store the transition in memory\n",
    "            state = next_state\n",
    "            env.optimize_model() # perform one step of the optimization on the policy network"
   ]
  },
  {
   "cell_type": "markdown",
   "metadata": {},
   "source": [
    "첫 거래에서 에이전트는 매도 결정을 내렸다. 이제 이를 바탕으로 step 함수를 작동시켜서 보상을 얻고 다음 state를 관찰하도록 하자."
   ]
  },
  {
   "cell_type": "code",
   "execution_count": 68,
   "metadata": {},
   "outputs": [],
   "source": [
    "next_state, reward, done = train_env.step(action)"
   ]
  },
  {
   "cell_type": "code",
   "execution_count": 69,
   "metadata": {},
   "outputs": [
    {
     "data": {
      "text/plain": [
       "(50, 10)"
      ]
     },
     "execution_count": 69,
     "metadata": {},
     "output_type": "execute_result"
    }
   ],
   "source": [
    "next_state.shape"
   ]
  },
  {
   "cell_type": "code",
   "execution_count": 70,
   "metadata": {},
   "outputs": [
    {
     "data": {
      "text/plain": [
       "0.0"
      ]
     },
     "execution_count": 70,
     "metadata": {},
     "output_type": "execute_result"
    }
   ],
   "source": [
    "reward"
   ]
  },
  {
   "cell_type": "code",
   "execution_count": 71,
   "metadata": {},
   "outputs": [
    {
     "data": {
      "text/plain": [
       "10000.0"
      ]
     },
     "execution_count": 71,
     "metadata": {},
     "output_type": "execute_result"
    }
   ],
   "source": [
    "train_env.net_worth"
   ]
  },
  {
   "cell_type": "code",
   "execution_count": 72,
   "metadata": {},
   "outputs": [
    {
     "data": {
      "text/plain": [
       "0"
      ]
     },
     "execution_count": 72,
     "metadata": {},
     "output_type": "execute_result"
    }
   ],
   "source": [
    "train_env.crypto_bought"
   ]
  },
  {
   "cell_type": "markdown",
   "metadata": {},
   "source": [
    "거래를 잘 수행하여 가지고 있는 현금의 1/10을 사용해 비트코인을 매수했다. 다음으로 optimize 함수를 살펴보자"
   ]
  },
  {
   "cell_type": "code",
   "execution_count": 73,
   "metadata": {},
   "outputs": [],
   "source": [
    "memory.push(state, action, next_state, reward)"
   ]
  },
  {
   "cell_type": "code",
   "execution_count": 75,
   "metadata": {},
   "outputs": [],
   "source": [
    "state = next_state"
   ]
  },
  {
   "cell_type": "markdown",
   "metadata": {},
   "source": [
    "Optimize 과정을 하나하나 뜯어보자"
   ]
  },
  {
   "cell_type": "code",
   "execution_count": 78,
   "metadata": {},
   "outputs": [
    {
     "ename": "TypeError",
     "evalue": "flatten() takes from 0 to 1 positional arguments but 2 were given",
     "output_type": "error",
     "traceback": [
      "\u001b[0;31m---------------------------------------------------------------------------\u001b[0m",
      "\u001b[0;31mTypeError\u001b[0m                                 Traceback (most recent call last)",
      "Cell \u001b[0;32mIn[78], line 1\u001b[0m\n\u001b[0;32m----> 1\u001b[0m state_action_values \u001b[38;5;241m=\u001b[39m \u001b[43mtrain_env\u001b[49m\u001b[38;5;241;43m.\u001b[39;49m\u001b[43mTarget\u001b[49m\u001b[43m(\u001b[49m\u001b[43mnext_state\u001b[49m\u001b[43m)\u001b[49m\u001b[38;5;241m.\u001b[39mgather(\u001b[38;5;241m1\u001b[39m, action)\n",
      "File \u001b[0;32m~/Desktop/MATH70101 Deep Learning/Coursework III/dl-cw-3-gpu/lib/python3.11/site-packages/torch/nn/modules/module.py:1553\u001b[0m, in \u001b[0;36mModule._wrapped_call_impl\u001b[0;34m(self, *args, **kwargs)\u001b[0m\n\u001b[1;32m   1551\u001b[0m     \u001b[38;5;28;01mreturn\u001b[39;00m \u001b[38;5;28mself\u001b[39m\u001b[38;5;241m.\u001b[39m_compiled_call_impl(\u001b[38;5;241m*\u001b[39margs, \u001b[38;5;241m*\u001b[39m\u001b[38;5;241m*\u001b[39mkwargs)  \u001b[38;5;66;03m# type: ignore[misc]\u001b[39;00m\n\u001b[1;32m   1552\u001b[0m \u001b[38;5;28;01melse\u001b[39;00m:\n\u001b[0;32m-> 1553\u001b[0m     \u001b[38;5;28;01mreturn\u001b[39;00m \u001b[38;5;28;43mself\u001b[39;49m\u001b[38;5;241;43m.\u001b[39;49m\u001b[43m_call_impl\u001b[49m\u001b[43m(\u001b[49m\u001b[38;5;241;43m*\u001b[39;49m\u001b[43margs\u001b[49m\u001b[43m,\u001b[49m\u001b[43m \u001b[49m\u001b[38;5;241;43m*\u001b[39;49m\u001b[38;5;241;43m*\u001b[39;49m\u001b[43mkwargs\u001b[49m\u001b[43m)\u001b[49m\n",
      "File \u001b[0;32m~/Desktop/MATH70101 Deep Learning/Coursework III/dl-cw-3-gpu/lib/python3.11/site-packages/torch/nn/modules/module.py:1562\u001b[0m, in \u001b[0;36mModule._call_impl\u001b[0;34m(self, *args, **kwargs)\u001b[0m\n\u001b[1;32m   1557\u001b[0m \u001b[38;5;66;03m# If we don't have any hooks, we want to skip the rest of the logic in\u001b[39;00m\n\u001b[1;32m   1558\u001b[0m \u001b[38;5;66;03m# this function, and just call forward.\u001b[39;00m\n\u001b[1;32m   1559\u001b[0m \u001b[38;5;28;01mif\u001b[39;00m \u001b[38;5;129;01mnot\u001b[39;00m (\u001b[38;5;28mself\u001b[39m\u001b[38;5;241m.\u001b[39m_backward_hooks \u001b[38;5;129;01mor\u001b[39;00m \u001b[38;5;28mself\u001b[39m\u001b[38;5;241m.\u001b[39m_backward_pre_hooks \u001b[38;5;129;01mor\u001b[39;00m \u001b[38;5;28mself\u001b[39m\u001b[38;5;241m.\u001b[39m_forward_hooks \u001b[38;5;129;01mor\u001b[39;00m \u001b[38;5;28mself\u001b[39m\u001b[38;5;241m.\u001b[39m_forward_pre_hooks\n\u001b[1;32m   1560\u001b[0m         \u001b[38;5;129;01mor\u001b[39;00m _global_backward_pre_hooks \u001b[38;5;129;01mor\u001b[39;00m _global_backward_hooks\n\u001b[1;32m   1561\u001b[0m         \u001b[38;5;129;01mor\u001b[39;00m _global_forward_hooks \u001b[38;5;129;01mor\u001b[39;00m _global_forward_pre_hooks):\n\u001b[0;32m-> 1562\u001b[0m     \u001b[38;5;28;01mreturn\u001b[39;00m \u001b[43mforward_call\u001b[49m\u001b[43m(\u001b[49m\u001b[38;5;241;43m*\u001b[39;49m\u001b[43margs\u001b[49m\u001b[43m,\u001b[49m\u001b[43m \u001b[49m\u001b[38;5;241;43m*\u001b[39;49m\u001b[38;5;241;43m*\u001b[39;49m\u001b[43mkwargs\u001b[49m\u001b[43m)\u001b[49m\n\u001b[1;32m   1564\u001b[0m \u001b[38;5;28;01mtry\u001b[39;00m:\n\u001b[1;32m   1565\u001b[0m     result \u001b[38;5;241m=\u001b[39m \u001b[38;5;28;01mNone\u001b[39;00m\n",
      "Cell \u001b[0;32mIn[2], line 27\u001b[0m, in \u001b[0;36mDQN.forward\u001b[0;34m(self, x)\u001b[0m\n\u001b[1;32m     26\u001b[0m \u001b[38;5;28;01mdef\u001b[39;00m \u001b[38;5;21mforward\u001b[39m(\u001b[38;5;28mself\u001b[39m, x):\n\u001b[0;32m---> 27\u001b[0m     x \u001b[38;5;241m=\u001b[39m \u001b[38;5;28;43mself\u001b[39;49m\u001b[38;5;241;43m.\u001b[39;49m\u001b[43mflatten\u001b[49m\u001b[43m(\u001b[49m\u001b[43mx\u001b[49m\u001b[43m)\u001b[49m\n\u001b[1;32m     28\u001b[0m     x \u001b[38;5;241m=\u001b[39m F\u001b[38;5;241m.\u001b[39mrelu(\u001b[38;5;28mself\u001b[39m\u001b[38;5;241m.\u001b[39mlayer1(x))\n\u001b[1;32m     29\u001b[0m     x \u001b[38;5;241m=\u001b[39m F\u001b[38;5;241m.\u001b[39mrelu(\u001b[38;5;28mself\u001b[39m\u001b[38;5;241m.\u001b[39mlayer2(x))\n",
      "File \u001b[0;32m~/Desktop/MATH70101 Deep Learning/Coursework III/dl-cw-3-gpu/lib/python3.11/site-packages/torch/nn/modules/module.py:1553\u001b[0m, in \u001b[0;36mModule._wrapped_call_impl\u001b[0;34m(self, *args, **kwargs)\u001b[0m\n\u001b[1;32m   1551\u001b[0m     \u001b[38;5;28;01mreturn\u001b[39;00m \u001b[38;5;28mself\u001b[39m\u001b[38;5;241m.\u001b[39m_compiled_call_impl(\u001b[38;5;241m*\u001b[39margs, \u001b[38;5;241m*\u001b[39m\u001b[38;5;241m*\u001b[39mkwargs)  \u001b[38;5;66;03m# type: ignore[misc]\u001b[39;00m\n\u001b[1;32m   1552\u001b[0m \u001b[38;5;28;01melse\u001b[39;00m:\n\u001b[0;32m-> 1553\u001b[0m     \u001b[38;5;28;01mreturn\u001b[39;00m \u001b[38;5;28;43mself\u001b[39;49m\u001b[38;5;241;43m.\u001b[39;49m\u001b[43m_call_impl\u001b[49m\u001b[43m(\u001b[49m\u001b[38;5;241;43m*\u001b[39;49m\u001b[43margs\u001b[49m\u001b[43m,\u001b[49m\u001b[43m \u001b[49m\u001b[38;5;241;43m*\u001b[39;49m\u001b[38;5;241;43m*\u001b[39;49m\u001b[43mkwargs\u001b[49m\u001b[43m)\u001b[49m\n",
      "File \u001b[0;32m~/Desktop/MATH70101 Deep Learning/Coursework III/dl-cw-3-gpu/lib/python3.11/site-packages/torch/nn/modules/module.py:1562\u001b[0m, in \u001b[0;36mModule._call_impl\u001b[0;34m(self, *args, **kwargs)\u001b[0m\n\u001b[1;32m   1557\u001b[0m \u001b[38;5;66;03m# If we don't have any hooks, we want to skip the rest of the logic in\u001b[39;00m\n\u001b[1;32m   1558\u001b[0m \u001b[38;5;66;03m# this function, and just call forward.\u001b[39;00m\n\u001b[1;32m   1559\u001b[0m \u001b[38;5;28;01mif\u001b[39;00m \u001b[38;5;129;01mnot\u001b[39;00m (\u001b[38;5;28mself\u001b[39m\u001b[38;5;241m.\u001b[39m_backward_hooks \u001b[38;5;129;01mor\u001b[39;00m \u001b[38;5;28mself\u001b[39m\u001b[38;5;241m.\u001b[39m_backward_pre_hooks \u001b[38;5;129;01mor\u001b[39;00m \u001b[38;5;28mself\u001b[39m\u001b[38;5;241m.\u001b[39m_forward_hooks \u001b[38;5;129;01mor\u001b[39;00m \u001b[38;5;28mself\u001b[39m\u001b[38;5;241m.\u001b[39m_forward_pre_hooks\n\u001b[1;32m   1560\u001b[0m         \u001b[38;5;129;01mor\u001b[39;00m _global_backward_pre_hooks \u001b[38;5;129;01mor\u001b[39;00m _global_backward_hooks\n\u001b[1;32m   1561\u001b[0m         \u001b[38;5;129;01mor\u001b[39;00m _global_forward_hooks \u001b[38;5;129;01mor\u001b[39;00m _global_forward_pre_hooks):\n\u001b[0;32m-> 1562\u001b[0m     \u001b[38;5;28;01mreturn\u001b[39;00m \u001b[43mforward_call\u001b[49m\u001b[43m(\u001b[49m\u001b[38;5;241;43m*\u001b[39;49m\u001b[43margs\u001b[49m\u001b[43m,\u001b[49m\u001b[43m \u001b[49m\u001b[38;5;241;43m*\u001b[39;49m\u001b[38;5;241;43m*\u001b[39;49m\u001b[43mkwargs\u001b[49m\u001b[43m)\u001b[49m\n\u001b[1;32m   1564\u001b[0m \u001b[38;5;28;01mtry\u001b[39;00m:\n\u001b[1;32m   1565\u001b[0m     result \u001b[38;5;241m=\u001b[39m \u001b[38;5;28;01mNone\u001b[39;00m\n",
      "File \u001b[0;32m~/Desktop/MATH70101 Deep Learning/Coursework III/dl-cw-3-gpu/lib/python3.11/site-packages/torch/nn/modules/flatten.py:50\u001b[0m, in \u001b[0;36mFlatten.forward\u001b[0;34m(self, input)\u001b[0m\n\u001b[1;32m     49\u001b[0m \u001b[38;5;28;01mdef\u001b[39;00m \u001b[38;5;21mforward\u001b[39m(\u001b[38;5;28mself\u001b[39m, \u001b[38;5;28minput\u001b[39m: Tensor) \u001b[38;5;241m-\u001b[39m\u001b[38;5;241m>\u001b[39m Tensor:\n\u001b[0;32m---> 50\u001b[0m     \u001b[38;5;28;01mreturn\u001b[39;00m \u001b[38;5;28;43minput\u001b[39;49m\u001b[38;5;241;43m.\u001b[39;49m\u001b[43mflatten\u001b[49m\u001b[43m(\u001b[49m\u001b[38;5;28;43mself\u001b[39;49m\u001b[38;5;241;43m.\u001b[39;49m\u001b[43mstart_dim\u001b[49m\u001b[43m,\u001b[49m\u001b[43m \u001b[49m\u001b[38;5;28;43mself\u001b[39;49m\u001b[38;5;241;43m.\u001b[39;49m\u001b[43mend_dim\u001b[49m\u001b[43m)\u001b[49m\n",
      "\u001b[0;31mTypeError\u001b[0m: flatten() takes from 0 to 1 positional arguments but 2 were given"
     ]
    }
   ],
   "source": [
    "state_action_values = train_env.Target(next_state).gather(1, action)"
   ]
  },
  {
   "cell_type": "code",
   "execution_count": null,
   "metadata": {},
   "outputs": [],
   "source": []
  },
  {
   "cell_type": "code",
   "execution_count": null,
   "metadata": {},
   "outputs": [],
   "source": [
    "# Train 모드로 변경\n",
    "train_env.Behaviour.train()\n",
    "criterion = nn.MSELoss()\n"
   ]
  },
  {
   "cell_type": "code",
   "execution_count": 76,
   "metadata": {},
   "outputs": [],
   "source": [
    "train_env.optimize_model()"
   ]
  },
  {
   "cell_type": "code",
   "execution_count": 77,
   "metadata": {},
   "outputs": [
    {
     "data": {
      "text/plain": [
       "0"
      ]
     },
     "execution_count": 77,
     "metadata": {},
     "output_type": "execute_result"
    }
   ],
   "source": [
    "train_env.loss"
   ]
  },
  {
   "cell_type": "code",
   "execution_count": null,
   "metadata": {},
   "outputs": [],
   "source": [
    "# 실제로 의사결정을 내린 behaviour policy network로 구한 Q값을 계산한다\n",
    "\n",
    "# Target policy network로 현재 Q값을 계산한다.\n",
    "\n"
   ]
  },
  {
   "cell_type": "code",
   "execution_count": null,
   "metadata": {},
   "outputs": [],
   "source": [
    "def optimize_model(self):\n",
    "        if len(self.memory) < self.batch_size:\n",
    "            return\n",
    "        Transition = namedtuple('Transition',\n",
    "                        ('state', 'action', 'next_state', 'reward'))\n",
    "        transitions = self.memory.sample(self.batch_size)\n",
    "        batch = Transition(*zip(*transitions))\n",
    "\n",
    "        non_final_mask = torch.tensor(tuple(map(lambda s: s is not None,\n",
    "                                            batch.next_state)), device=device, dtype=torch.bool)\n",
    "        non_final_next_states = torch.cat([s for s in batch.next_state\n",
    "                                                    if s is not None])\n",
    "        state_batch = torch.cat(batch.state)\n",
    "        action_batch = torch.cat(batch.action)\n",
    "        reward_batch = torch.cat(batch.reward)\n",
    "\n",
    "        state_action_values = self.Behaviour(state_batch).gather(1, action_batch)\n",
    "\n",
    "        next_state_values = torch.zeros(self.batch_size, device=device)\n",
    "        with torch.no_grad():\n",
    "            next_state_values[non_final_mask] = self.Target(non_final_next_states).max(1).values\n",
    "\n",
    "        expected_state_action_values = (next_state_values * self.gamma) + reward_batch\n",
    "\n",
    "        # Compute Huber loss\n",
    "        criterion = nn.MSELoss()\n",
    "        loss = criterion(state_action_values, expected_state_action_values.unsqueeze(1))\n",
    "        self.losses.append(loss)\n",
    "        # Optimize the model\n",
    "        self.optimizer.zero_grad()\n",
    "        loss.backward()\n",
    "        # In-place gradient clipping\n",
    "        #torch.nn.utils.clip_grad_value_(self.Policy.parameters(), 100)\n",
    "        self.optimizer.step()\n",
    "        \n",
    "        # Update the target network every C step\n",
    "        if self.current_step % self.C == 0:\n",
    "            self.soft_update_target(self.Target, self.Behaviour)\n",
    "    \n",
    "    def soft_update_target(self, target, behaviour):\n",
    "        for target_parameter, behaviour_parameter in zip(target.parameters(), behaviour.parameters()):\n",
    "            target_parameter.data.copy_((1 - self.tau) * target_parameter.data + self.tau * behaviour_parameter)"
   ]
  },
  {
   "cell_type": "code",
   "execution_count": 59,
   "metadata": {},
   "outputs": [
    {
     "data": {
      "text/plain": [
       "0"
      ]
     },
     "execution_count": 59,
     "metadata": {},
     "output_type": "execute_result"
    }
   ],
   "source": [
    "train_env.loss"
   ]
  },
  {
   "cell_type": "code",
   "execution_count": 55,
   "metadata": {},
   "outputs": [
    {
     "name": "stdout",
     "output_type": "stream",
     "text": [
      "<generator object Module.parameters at 0x2b7f72180>\n"
     ]
    }
   ],
   "source": [
    "train_env.Target."
   ]
  },
  {
   "cell_type": "code",
   "execution_count": null,
   "metadata": {},
   "outputs": [],
   "source": []
  }
 ],
 "metadata": {
  "kernelspec": {
   "display_name": "dl-cw-3-gpu",
   "language": "python",
   "name": "python3"
  },
  "language_info": {
   "codemirror_mode": {
    "name": "ipython",
    "version": 3
   },
   "file_extension": ".py",
   "mimetype": "text/x-python",
   "name": "python",
   "nbconvert_exporter": "python",
   "pygments_lexer": "ipython3",
   "version": "3.11.4"
  }
 },
 "nbformat": 4,
 "nbformat_minor": 2
}
